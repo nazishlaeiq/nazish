{
    "cells": [
        {
            "cell_type": "code",
            "execution_count": 1,
            "metadata": {},
            "outputs": [
                {
                    "name": "stdout",
                    "output_type": "stream",
                    "text": "Waiting for a Spark session to start...\nSpark Initialization Done! ApplicationId = app-20210803170512-0000\nKERNEL_ID = 7f27fdf1-8fbd-4cff-a5ee-4a07122b86db\n"
                },
                {
                    "data": {
                        "text/plain": "[Row(ID='1', Name='A Dijiang', Sex='M', Age='24', Height='180', Weight='80', Team='China', NOC='CHN', Games='1992 Summer', Year='1992', Season='Summer', City='Barcelona', Sport='Basketball', Event=\"Basketball Men's Basketball\", Medal='NA'),\n Row(ID='2', Name='A Lamusi', Sex='M', Age='23', Height='170', Weight='60', Team='China', NOC='CHN', Games='2012 Summer', Year='2012', Season='Summer', City='London', Sport='Judo', Event=\"Judo Men's Extra-Lightweight\", Medal='NA'),\n Row(ID='3', Name='Gunnar Nielsen Aaby', Sex='M', Age='24', Height='NA', Weight='NA', Team='Denmark', NOC='DEN', Games='1920 Summer', Year='1920', Season='Summer', City='Antwerpen', Sport='Football', Event=\"Football Men's Football\", Medal='NA'),\n Row(ID='4', Name='Edgar Lindenau Aabye', Sex='M', Age='34', Height='NA', Weight='NA', Team='Denmark/Sweden', NOC='DEN', Games='1900 Summer', Year='1900', Season='Summer', City='Paris', Sport='Tug-Of-War', Event=\"Tug-Of-War Men's Tug-Of-War\", Medal='Gold'),\n Row(ID='5', Name='Christine Jacoba Aaftink', Sex='F', Age='21', Height='185', Weight='82', Team='Netherlands', NOC='NED', Games='1988 Winter', Year='1988', Season='Winter', City='Calgary', Sport='Speed Skating', Event=\"Speed Skating Women's 500 metres\", Medal='NA')]"
                    },
                    "execution_count": 1,
                    "metadata": {},
                    "output_type": "execute_result"
                }
            ],
            "source": "# The code was removed by Watson Studio for sharing."
        },
        {
            "cell_type": "code",
            "execution_count": null,
            "metadata": {},
            "outputs": [],
            "source": ""
        }
    ],
    "metadata": {
        "kernelspec": {
            "display_name": "Python 3.7 with Spark",
            "language": "python3",
            "name": "python37"
        },
        "language_info": {
            "codemirror_mode": {
                "name": "ipython",
                "version": 3
            },
            "file_extension": ".py",
            "mimetype": "text/x-python",
            "name": "python",
            "nbconvert_exporter": "python",
            "pygments_lexer": "ipython3",
            "version": "3.7.10"
        }
    },
    "nbformat": 4,
    "nbformat_minor": 1
}